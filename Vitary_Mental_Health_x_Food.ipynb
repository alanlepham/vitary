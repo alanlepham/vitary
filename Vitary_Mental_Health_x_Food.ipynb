{
  "nbformat": 4,
  "nbformat_minor": 0,
  "metadata": {
    "colab": {
      "name": "Vitary: Mental Health x Food.ipynb",
      "provenance": []
    },
    "kernelspec": {
      "name": "python3",
      "display_name": "Python 3"
    },
    "language_info": {
      "name": "python"
    }
  },
  "cells": [
    {
      "cell_type": "markdown",
      "source": [
        "# Find correlations in your daily eating habits"
      ],
      "metadata": {
        "id": "OU1WsQwtuYKN"
      }
    },
    {
      "cell_type": "code",
      "source": [
        "#@title Computer Setup\n",
        "#@markdown Press the play button to the right to continue. \n",
        "\n",
        "import os\n",
        "import pandas as pd\n",
        "import numpy as np\n",
        "import datetime\n",
        "\n",
        "from sklearn.linear_model import LinearRegression\n",
        "from sklearn.neural_network import MLPRegressor\n",
        "from sklearn.preprocessing import OneHotEncoder\n",
        "\n",
        "from google.colab import drive\n",
        "MOUNTPOINT = '/content/gdrive'\n",
        "DATADIR = os.path.join(MOUNTPOINT, 'My Drive', 'mental_health_food')\n",
        "drive.mount(MOUNTPOINT) #, force_remount=True)\n",
        "\n",
        "datastore_fp = os.path.join(DATADIR, \"datastore.csv\") # I only do this for hackathons i promise\n",
        "\n",
        "def get_df():\n",
        "    return pd.DataFrame({\"Meal\":[], \"Mood\":[], \"Time_of_Day\":[], \"Time_Recorded\":[]})\n",
        "\n",
        "if not os.path.exists(datastore_fp):\n",
        "    os.makedirs(DATADIR, exist_ok=True)\n",
        "    datastore = get_df()\n",
        "    datastore.to_csv(datastore_fp, index=False)\n",
        "else:\n",
        "    datastore = pd.read_csv(datastore_fp)\n",
        "\n",
        "cell_ran1 = True"
      ],
      "metadata": {
        "colab": {
          "base_uri": "https://localhost:8080/"
        },
        "cellView": "form",
        "id": "BxdShdP2khTk",
        "outputId": "145ff9a8-69cd-47b5-9aad-33331d5448a2"
      },
      "execution_count": 8,
      "outputs": [
        {
          "output_type": "stream",
          "name": "stdout",
          "text": [
            "Drive already mounted at /content/gdrive; to attempt to forcibly remount, call drive.mount(\"/content/gdrive\", force_remount=True).\n"
          ]
        }
      ]
    },
    {
      "cell_type": "code",
      "source": [
        "#@title 1. Add to your log\n",
        "#@markdown Press the play button to the right to continue. Please include any meals or activities you think may be related to your mental health.\n",
        "try:\n",
        "    assert cell_ran1\n",
        "except:\n",
        "    raise Exception(\"Please run setup cell first. (cell 1)\")\n",
        "\n",
        "if not os.path.exists(datastore_fp):\n",
        "    os.makedirs(DATADIR, exist_ok=True)\n",
        "    datastore = get_df()\n",
        "    datastore.to_csv(datastore_fp, index=False)\n",
        "    \n",
        "class DailyRecord:\n",
        "\n",
        "    def __getitem__(self, key):\n",
        "        return getattr(self, key)\n",
        "\n",
        "    def __setitem__(self, key, val):\n",
        "        setattr(self, key, val)\n",
        "\n",
        "    def __contains__(self, key):\n",
        "        return hasattr(self, key)\n",
        "    \n",
        "    #@markdown #### What meal did you have?\n",
        "    Meal = \"cereal\" #@param { type: \"string\" }\n",
        "    \n",
        "    #@markdown #### What is your mood after your meal?\n",
        "    Mood = \"8\" #@param [\"N/A\", \"1\", \"2\", \"3\", \"4\", \"5\", \"6\", \"7\", \"8\", \"9\", \"10\"]\n",
        "\n",
        "    #@markdown #### When did you eat your meal?\n",
        "    Time_of_Day = \"Morning\" #@param [\"N/A\", \"Morning\", \"Noon\", \"Night\"]\n",
        "\n",
        "\n",
        "record = DailyRecord()\n",
        "datastore = datastore.append({\"Meal\":record.Meal, \"Mood\":record.Mood, \"Time_of_Day\":record.Time_of_Day, \"Time_Recorded\":datetime.datetime.now()}, ignore_index = True)\n",
        "datastore.to_csv(datastore_fp, index=False)\n",
        "\n",
        "print(f\"Data recorded at {datetime.datetime.now()}\")"
      ],
      "metadata": {
        "colab": {
          "base_uri": "https://localhost:8080/"
        },
        "cellView": "form",
        "id": "3B1ToC7ficgy",
        "outputId": "27b646ec-92a6-45e4-d570-92e9acb19418"
      },
      "execution_count": 9,
      "outputs": [
        {
          "output_type": "stream",
          "name": "stdout",
          "text": [
            "Data recorded at 2022-02-20 11:17:33.341656\n"
          ]
        }
      ]
    },
    {
      "cell_type": "code",
      "source": [
        "#@markdown To clear your logs, type \"True\" and click the play button to the left\n",
        "reset = \"False\" #@param [\"True\", \"False\"]\n",
        "if reset == \"True\":\n",
        "    datastore = get_df()\n",
        "    datastore.to_csv(datastore_fp, index=False)"
      ],
      "metadata": {
        "cellView": "form",
        "id": "IGySHNz3n-Qa"
      },
      "execution_count": 16,
      "outputs": []
    },
    {
      "cell_type": "code",
      "source": [
        "#@markdown 5 most recent meals\n",
        "datastore.head(5)"
      ],
      "metadata": {
        "colab": {
          "base_uri": "https://localhost:8080/",
          "height": 206
        },
        "cellView": "form",
        "id": "19ZASm80j5Th",
        "outputId": "3f768ab4-83db-4a1b-c3a2-ebef3ebc7c53"
      },
      "execution_count": 17,
      "outputs": [
        {
          "output_type": "execute_result",
          "data": {
            "text/html": [
              "\n",
              "  <div id=\"df-da421e80-2553-40b7-9dfd-5b1a3070533f\">\n",
              "    <div class=\"colab-df-container\">\n",
              "      <div>\n",
              "<style scoped>\n",
              "    .dataframe tbody tr th:only-of-type {\n",
              "        vertical-align: middle;\n",
              "    }\n",
              "\n",
              "    .dataframe tbody tr th {\n",
              "        vertical-align: top;\n",
              "    }\n",
              "\n",
              "    .dataframe thead th {\n",
              "        text-align: right;\n",
              "    }\n",
              "</style>\n",
              "<table border=\"1\" class=\"dataframe\">\n",
              "  <thead>\n",
              "    <tr style=\"text-align: right;\">\n",
              "      <th></th>\n",
              "      <th>Meal</th>\n",
              "      <th>Mood</th>\n",
              "      <th>Time_of_Day</th>\n",
              "      <th>Time_Recorded</th>\n",
              "    </tr>\n",
              "  </thead>\n",
              "  <tbody>\n",
              "    <tr>\n",
              "      <th>0</th>\n",
              "      <td>pizza</td>\n",
              "      <td>2</td>\n",
              "      <td>Morning</td>\n",
              "      <td>2022-02-20 10:43:49.237929</td>\n",
              "    </tr>\n",
              "    <tr>\n",
              "      <th>1</th>\n",
              "      <td>cereal</td>\n",
              "      <td>6</td>\n",
              "      <td>Night</td>\n",
              "      <td>2022-02-20 10:44:00.481336</td>\n",
              "    </tr>\n",
              "    <tr>\n",
              "      <th>2</th>\n",
              "      <td>mouthwash</td>\n",
              "      <td>6</td>\n",
              "      <td>Noon</td>\n",
              "      <td>2022-02-20 10:44:09.327923</td>\n",
              "    </tr>\n",
              "    <tr>\n",
              "      <th>3</th>\n",
              "      <td>mouthwash</td>\n",
              "      <td>1</td>\n",
              "      <td>Noon</td>\n",
              "      <td>2022-02-20 10:44:17.837231</td>\n",
              "    </tr>\n",
              "    <tr>\n",
              "      <th>4</th>\n",
              "      <td>pizza</td>\n",
              "      <td>3</td>\n",
              "      <td>Noon</td>\n",
              "      <td>2022-02-20 10:44:25.287492</td>\n",
              "    </tr>\n",
              "  </tbody>\n",
              "</table>\n",
              "</div>\n",
              "      <button class=\"colab-df-convert\" onclick=\"convertToInteractive('df-da421e80-2553-40b7-9dfd-5b1a3070533f')\"\n",
              "              title=\"Convert this dataframe to an interactive table.\"\n",
              "              style=\"display:none;\">\n",
              "        \n",
              "  <svg xmlns=\"http://www.w3.org/2000/svg\" height=\"24px\"viewBox=\"0 0 24 24\"\n",
              "       width=\"24px\">\n",
              "    <path d=\"M0 0h24v24H0V0z\" fill=\"none\"/>\n",
              "    <path d=\"M18.56 5.44l.94 2.06.94-2.06 2.06-.94-2.06-.94-.94-2.06-.94 2.06-2.06.94zm-11 1L8.5 8.5l.94-2.06 2.06-.94-2.06-.94L8.5 2.5l-.94 2.06-2.06.94zm10 10l.94 2.06.94-2.06 2.06-.94-2.06-.94-.94-2.06-.94 2.06-2.06.94z\"/><path d=\"M17.41 7.96l-1.37-1.37c-.4-.4-.92-.59-1.43-.59-.52 0-1.04.2-1.43.59L10.3 9.45l-7.72 7.72c-.78.78-.78 2.05 0 2.83L4 21.41c.39.39.9.59 1.41.59.51 0 1.02-.2 1.41-.59l7.78-7.78 2.81-2.81c.8-.78.8-2.07 0-2.86zM5.41 20L4 18.59l7.72-7.72 1.47 1.35L5.41 20z\"/>\n",
              "  </svg>\n",
              "      </button>\n",
              "      \n",
              "  <style>\n",
              "    .colab-df-container {\n",
              "      display:flex;\n",
              "      flex-wrap:wrap;\n",
              "      gap: 12px;\n",
              "    }\n",
              "\n",
              "    .colab-df-convert {\n",
              "      background-color: #E8F0FE;\n",
              "      border: none;\n",
              "      border-radius: 50%;\n",
              "      cursor: pointer;\n",
              "      display: none;\n",
              "      fill: #1967D2;\n",
              "      height: 32px;\n",
              "      padding: 0 0 0 0;\n",
              "      width: 32px;\n",
              "    }\n",
              "\n",
              "    .colab-df-convert:hover {\n",
              "      background-color: #E2EBFA;\n",
              "      box-shadow: 0px 1px 2px rgba(60, 64, 67, 0.3), 0px 1px 3px 1px rgba(60, 64, 67, 0.15);\n",
              "      fill: #174EA6;\n",
              "    }\n",
              "\n",
              "    [theme=dark] .colab-df-convert {\n",
              "      background-color: #3B4455;\n",
              "      fill: #D2E3FC;\n",
              "    }\n",
              "\n",
              "    [theme=dark] .colab-df-convert:hover {\n",
              "      background-color: #434B5C;\n",
              "      box-shadow: 0px 1px 3px 1px rgba(0, 0, 0, 0.15);\n",
              "      filter: drop-shadow(0px 1px 2px rgba(0, 0, 0, 0.3));\n",
              "      fill: #FFFFFF;\n",
              "    }\n",
              "  </style>\n",
              "\n",
              "      <script>\n",
              "        const buttonEl =\n",
              "          document.querySelector('#df-da421e80-2553-40b7-9dfd-5b1a3070533f button.colab-df-convert');\n",
              "        buttonEl.style.display =\n",
              "          google.colab.kernel.accessAllowed ? 'block' : 'none';\n",
              "\n",
              "        async function convertToInteractive(key) {\n",
              "          const element = document.querySelector('#df-da421e80-2553-40b7-9dfd-5b1a3070533f');\n",
              "          const dataTable =\n",
              "            await google.colab.kernel.invokeFunction('convertToInteractive',\n",
              "                                                     [key], {});\n",
              "          if (!dataTable) return;\n",
              "\n",
              "          const docLinkHtml = 'Like what you see? Visit the ' +\n",
              "            '<a target=\"_blank\" href=https://colab.research.google.com/notebooks/data_table.ipynb>data table notebook</a>'\n",
              "            + ' to learn more about interactive tables.';\n",
              "          element.innerHTML = '';\n",
              "          dataTable['output_type'] = 'display_data';\n",
              "          await google.colab.output.renderOutput(dataTable, element);\n",
              "          const docLink = document.createElement('div');\n",
              "          docLink.innerHTML = docLinkHtml;\n",
              "          element.appendChild(docLink);\n",
              "        }\n",
              "      </script>\n",
              "    </div>\n",
              "  </div>\n",
              "  "
            ],
            "text/plain": [
              "        Meal Mood Time_of_Day               Time_Recorded\n",
              "0      pizza    2     Morning  2022-02-20 10:43:49.237929\n",
              "1     cereal    6       Night  2022-02-20 10:44:00.481336\n",
              "2  mouthwash    6        Noon  2022-02-20 10:44:09.327923\n",
              "3  mouthwash    1        Noon  2022-02-20 10:44:17.837231\n",
              "4      pizza    3        Noon  2022-02-20 10:44:25.287492"
            ]
          },
          "metadata": {},
          "execution_count": 17
        }
      ]
    },
    {
      "cell_type": "code",
      "source": [
        "#@title 2. Get Prediction for what could possibly lead to bad mood\n",
        "try:\n",
        "    assert cell_ran1\n",
        "except:\n",
        "    raise Exception(\"Please run setup cell first. (cell 1)\")\n",
        "\n",
        "# Preprocess\n",
        "datastore_ = datastore.copy()\n",
        "datastore_ = datastore_.drop(columns=\"Time_Recorded\")\n",
        "datastore_[\"Mood\"] = pd.to_numeric(datastore[\"Mood\"])\n",
        "datastore_[\"Time_of_Day\"] = datastore_[\"Time_of_Day\"].apply(lambda x: {\"N/A\":-1, \"Morning\":0, \"Noon\":1, \"Night\":2}[x])\n",
        "\n",
        "enc = OneHotEncoder(handle_unknown='ignore')\n",
        "X = enc.fit_transform(datastore_.drop(columns=[\"Mood\"]))\n",
        "y = datastore[\"Mood\"].to_numpy()\n",
        "X.toarray()\n",
        "\n",
        "# Train\n",
        "machine_learning_good = True\n",
        "realism_good = not machine_learning_good\n",
        "\n",
        "if machine_learning_good:\n",
        "    model = MLPRegressor(random_state=1, max_iter=500)\n",
        "elif realism_good:\n",
        "    model = LinearRegression()\n",
        "else:\n",
        "    raise NotImplementedError()\n",
        "  \n",
        "reg = model.fit(X, y)\n",
        "reg.score(X, y)\n",
        "\n",
        "# Predict\n",
        "worst_idx = np.argmin(reg.predict(X))\n",
        "worst_meal = datastore_.iloc[worst_idx][\"Meal\"]\n",
        "print(f\"We suspect that {worst_meal} may be negatively affecting your mood. Consider consulting your doctor for more advice.\")"
      ],
      "metadata": {
        "colab": {
          "base_uri": "https://localhost:8080/"
        },
        "cellView": "form",
        "id": "aZi5Ip1Zqclj",
        "outputId": "9a08a67d-5ea4-4733-80b9-c881db4fc8f6"
      },
      "execution_count": 21,
      "outputs": [
        {
          "output_type": "stream",
          "name": "stdout",
          "text": [
            "We suspect that pizza may be negatively affecting your mood. Consider consulting your doctor for more advice.\n"
          ]
        }
      ]
    },
    {
      "cell_type": "code",
      "source": [
        ""
      ],
      "metadata": {
        "id": "QFrdg33hvT6E"
      },
      "execution_count": null,
      "outputs": []
    }
  ]
}